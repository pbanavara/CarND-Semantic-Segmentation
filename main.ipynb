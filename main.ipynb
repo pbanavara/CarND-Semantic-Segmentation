{
 "cells": [
  {
   "cell_type": "code",
   "execution_count": 1,
   "metadata": {},
   "outputs": [
    {
     "name": "stderr",
     "output_type": "stream",
     "text": [
      "/home/ubuntu/anaconda3/envs/tensorflow_p36/lib/python3.6/importlib/_bootstrap.py:219: RuntimeWarning: compiletime version 3.5 of module 'tensorflow.python.framework.fast_tensor_util' does not match runtime version 3.6\n",
      "  return f(*args, **kwds)\n"
     ]
    }
   ],
   "source": [
    "import os.path\n",
    "import tensorflow as tf\n",
    "import helper\n",
    "import warnings\n",
    "from distutils.version import LooseVersion\n",
    "import project_tests as tests\n",
    "from datetime import timedelta\n",
    "import time"
   ]
  },
  {
   "cell_type": "code",
   "execution_count": 2,
   "metadata": {},
   "outputs": [
    {
     "name": "stdout",
     "output_type": "stream",
     "text": [
      "TensorFlow Version: 1.4.0\n",
      "Default GPU Device: /device:GPU:0\n"
     ]
    }
   ],
   "source": [
    "# Check TensorFlow Version\n",
    "assert LooseVersion(tf.__version__) >= LooseVersion('1.0'), 'Please use TensorFlow version 1.0 or newer.  You are using {}'.format(tf.__version__)\n",
    "print('TensorFlow Version: {}'.format(tf.__version__))\n",
    "\n",
    "# Check for a GPU\n",
    "if not tf.test.gpu_device_name():\n",
    "    warnings.warn('No GPU found. Please use a GPU to train your neural network.')\n",
    "else:\n",
    "    print('Default GPU Device: {}'.format(tf.test.gpu_device_name()))"
   ]
  },
  {
   "cell_type": "code",
   "execution_count": 3,
   "metadata": {},
   "outputs": [
    {
     "name": "stdout",
     "output_type": "stream",
     "text": [
      "Load VGG Model:\n",
      "Tests Passed\n"
     ]
    }
   ],
   "source": [
    "def load_vgg(sess, vgg_path):\n",
    "    \"\"\"\n",
    "    Load Pretrained VGG Model into TensorFlow.\n",
    "    :param sess: TensorFlow Session\n",
    "    :param vgg_path: Path to vgg folder, containing \"variables/\" and \"saved_model.pb\"\n",
    "    :return: Tuple of Tensors from VGG model (image_input, keep_prob, layer3_out, layer4_out, layer7_out)\n",
    "    \"\"\"\n",
    "    vgg_tag = 'vgg16'\n",
    "    vgg_input_tensor_name = 'image_input:0'\n",
    "    vgg_keep_prob_tensor_name = 'keep_prob:0'\n",
    "    vgg_layer3_out_tensor_name = 'layer3_out:0'\n",
    "    vgg_layer4_out_tensor_name = 'layer4_out:0'\n",
    "    vgg_layer7_out_tensor_name = 'layer7_out:0'\n",
    "    graph = tf.get_default_graph()\n",
    "    tf.saved_model.loader.load(sess, [vgg_tag], vgg_path)\n",
    "    w1 = graph.get_tensor_by_name(vgg_input_tensor_name)\n",
    "    keep_prob = graph.get_tensor_by_name(vgg_keep_prob_tensor_name)\n",
    "    layer3 = graph.get_tensor_by_name(vgg_layer3_out_tensor_name)\n",
    "    layer4 = graph.get_tensor_by_name(vgg_layer4_out_tensor_name)\n",
    "    layer7 = graph.get_tensor_by_name(vgg_layer7_out_tensor_name)\n",
    "    return w1, keep_prob, layer3, layer4, layer7\n",
    "\n",
    "print(\"Load VGG Model:\")\n",
    "tests.test_load_vgg(load_vgg, tf)"
   ]
  },
  {
   "cell_type": "code",
   "execution_count": 11,
   "metadata": {},
   "outputs": [
    {
     "name": "stdout",
     "output_type": "stream",
     "text": [
      "Tests Passed\n"
     ]
    }
   ],
   "source": [
    "def layers(vgg_layer3_out, vgg_layer4_out, vgg_layer7_out, num_classes):\n",
    "    \"\"\"\n",
    "    Create the layers for a fully convolutional network.  Build skip-layers using the vgg layers.\n",
    "    :param vgg_layer7_out: TF Tensor for VGG Layer 3 output\n",
    "    :param vgg_layer4_out: TF Tensor for VGG Layer 4 output\n",
    "    :param vgg_layer3_out: TF Tensor for VGG Layer 7 output\n",
    "    :param num_classes: Number of classes to classify\n",
    "    :return: The Tensor for the last layer of output\n",
    "    \"\"\"\n",
    "    # Layer 7 upsampling\n",
    "    layer7_out = tf.layers.conv2d(vgg_layer7_out, num_classes, 1, \n",
    "                                   padding= 'same', \n",
    "                                   kernel_initializer= tf.random_normal_initializer(stddev=0.01),\n",
    "                                   kernel_regularizer= tf.contrib.layers.l2_regularizer(1e-3))\n",
    "    # upsample\n",
    "    layer4_in = tf.layers.conv2d_transpose(layer7_out, num_classes, 4, \n",
    "                                             strides= (2, 2), \n",
    "                                             padding= 'same', \n",
    "                                             kernel_initializer= tf.random_normal_initializer(stddev=0.01), \n",
    "                                             kernel_regularizer= tf.contrib.layers.l2_regularizer(1e-3))\n",
    "   \n",
    "    layer4_in2 = tf.layers.conv2d(vgg_layer4_out, num_classes, 1, \n",
    "                                   padding= 'same', \n",
    "                                   kernel_initializer= tf.random_normal_initializer(stddev=0.01), \n",
    "                                   kernel_regularizer= tf.contrib.layers.l2_regularizer(1e-3))\n",
    "    # skip connection (element-wise addition)\n",
    "    layer4_out = tf.add(layer4_in, layer4_in2)\n",
    "    layer3_in = tf.layers.conv2d_transpose(layer4_out, num_classes, 4, \n",
    "                                             strides= (2, 2), \n",
    "                                             padding= 'same', \n",
    "                                             kernel_initializer= tf.random_normal_initializer(stddev=0.01), \n",
    "                                             kernel_regularizer= tf.contrib.layers.l2_regularizer(1e-3))\n",
    "    \n",
    "    layer3_in2 = tf.layers.conv2d(vgg_layer3_out, num_classes, 1, \n",
    "                                   padding= 'same', \n",
    "                                   kernel_initializer= tf.random_normal_initializer(stddev=0.01), \n",
    "                                   kernel_regularizer= tf.contrib.layers.l2_regularizer(1e-3))\n",
    "    layer3_out = tf.add(layer3_in, layer3_in2)\n",
    "    \n",
    "    last_layer = tf.layers.conv2d_transpose(layer3_out, num_classes, 16,  \n",
    "                                               strides= (8, 8), \n",
    "                                               padding= 'same', \n",
    "                                               kernel_initializer= tf.random_normal_initializer(stddev=0.01), \n",
    "                                               kernel_regularizer= tf.contrib.layers.l2_regularizer(1e-3))\n",
    "    return last_layer\n",
    "tests.test_layers(layers)"
   ]
  },
  {
   "cell_type": "code",
   "execution_count": 5,
   "metadata": {},
   "outputs": [
    {
     "name": "stdout",
     "output_type": "stream",
     "text": [
      "Tests Passed\n"
     ]
    }
   ],
   "source": [
    "def optimize(nn_last_layer, correct_label, learning_rate, num_classes):\n",
    "    \"\"\"\n",
    "    Build the TensorFLow loss and optimizer operations.\n",
    "    :param nn_last_layer: TF Tensor of the last layer in the neural network\n",
    "    :param correct_label: TF Placeholder for the correct label image\n",
    "    :param learning_rate: TF Placeholder for the learning rate\n",
    "    :param num_classes: Number of classes to classify\n",
    "    :return: Tuple of (logits, train_op, cross_entropy_loss)\n",
    "    \"\"\"\n",
    "    # TODO: Implement function\n",
    "    logits = tf.reshape(nn_last_layer, (-1, num_classes))\n",
    "    labels = tf.reshape(correct_label, (-1, num_classes))\n",
    "    cross_entropy_loss = tf.reduce_mean(tf.nn.softmax_cross_entropy_with_logits(logits= logits, \n",
    "                                                                                labels= labels))\n",
    "    optimizer = tf.train.AdamOptimizer(learning_rate= learning_rate)\n",
    "    train_op = optimizer.minimize(cross_entropy_loss)\n",
    "    return logits, train_op, cross_entropy_loss\n",
    "tests.test_optimize(optimize)"
   ]
  },
  {
   "cell_type": "code",
   "execution_count": 12,
   "metadata": {},
   "outputs": [],
   "source": [
    "def train_nn(sess, epochs, batch_size, get_batches_fn, train_op, cross_entropy_loss, input_image,\n",
    "             correct_label, keep_prob, learning_rate):\n",
    "    \"\"\"\n",
    "    Train neural network and print out the loss during training.\n",
    "    :param sess: TF Session\n",
    "    :param epochs: Number of epochs\n",
    "    :param batch_size: Batch size\n",
    "    :param get_batches_fn: Function to get batches of training data.  Call using get_batches_fn(batch_size)\n",
    "    :param train_op: TF Operation to train the neural network\n",
    "    :param cross_entropy_loss: TF Tensor for the amount of loss\n",
    "    :param input_image: TF Placeholder for input images\n",
    "    :param correct_label: TF Placeholder for label images\n",
    "    :param keep_prob: TF Placeholder for dropout keep probability\n",
    "    :param learning_rate: TF Placeholder for learning rate\n",
    "    \"\"\"\n",
    "    # TODO: Implement function\n",
    "    for epoch in range(epochs):\n",
    "        s_time = time.time()\n",
    "        for image, targets in get_batches_fn(batch_size):\n",
    "            _, loss = sess.run([train_op, cross_entropy_loss], \n",
    "                feed_dict = {input_image: image, correct_label: targets, keep_prob: 0.5 ,\n",
    "                             learning_rate: 1e-4 })\n",
    "        print(\"Epoch: {}\".format(epoch + 1), \"/ {}\".format(epochs), \" Loss: {:.3f}\".format(loss), \" Time: \",\n",
    "              str(timedelta(seconds=(time.time() - s_time))))\n",
    "#tests.test_train_nn(train_nn)"
   ]
  },
  {
   "cell_type": "code",
   "execution_count": 7,
   "metadata": {},
   "outputs": [],
   "source": [
    "def run():\n",
    "    num_classes = 2\n",
    "    image_shape = (160, 576)\n",
    "    data_dir = './data'\n",
    "    runs_dir = './runs'\n",
    "    tests.test_for_kitti_dataset(data_dir)\n",
    "    learning_rate = 1e-3\n",
    "\n",
    "    # Download pretrained vgg model\n",
    "    helper.maybe_download_pretrained_vgg(data_dir)\n",
    "    with tf.Session() as sess:\n",
    "        vgg_path = os.path.join(data_dir, 'vgg')\n",
    "        get_batches_fn = helper.gen_batch_function(os.path.join(data_dir, \n",
    "                                                                'data_road/training'), image_shape)\n",
    "        epochs = 100\n",
    "        batch_size = 5\n",
    "        correct_label = tf.placeholder(tf.int32, [None, None, None, num_classes], name='correct_label')\n",
    "        learning_rate = tf.placeholder(tf.float32, name='learning_rate')\n",
    "        input_image, keep_prob, vgg_layer3_out, vgg_layer4_out, vgg_layer7_out = load_vgg(sess, vgg_path)\n",
    "        #print(input_image)\n",
    "        nn_last_layer = layers(vgg_layer3_out, vgg_layer4_out, vgg_layer7_out, num_classes)\n",
    "        logits, train_op, cross_entropy_loss = optimize(nn_last_layer, correct_label, \n",
    "                                                        learning_rate, num_classes)\n",
    "        sess.run(tf.global_variables_initializer())\n",
    "        train_nn(sess, epochs, batch_size, get_batches_fn, train_op, cross_entropy_loss, input_image,\n",
    "             correct_label, keep_prob, learning_rate)\n",
    "\n",
    "        # TODO: Save inference data using helper.save_inference_samples\n",
    "        helper.save_inference_samples(runs_dir, data_dir, sess, image_shape, logits, keep_prob, input_image)"
   ]
  },
  {
   "cell_type": "code",
   "execution_count": 8,
   "metadata": {},
   "outputs": [
    {
     "name": "stdout",
     "output_type": "stream",
     "text": [
      "Tests Passed\n",
      "INFO:tensorflow:Restoring parameters from b'./data/vgg/variables/variables'\n",
      "Epoch: 1 / 100  Loss: 0.365  Time:  0:01:13.777487\n",
      "Epoch: 2 / 100  Loss: 0.140  Time:  0:01:08.020845\n",
      "Epoch: 3 / 100  Loss: 0.107  Time:  0:01:08.079214\n",
      "Epoch: 4 / 100  Loss: 0.112  Time:  0:01:08.160808\n",
      "Epoch: 5 / 100  Loss: 0.117  Time:  0:01:08.217434\n",
      "Epoch: 6 / 100  Loss: 0.060  Time:  0:01:08.246199\n",
      "Epoch: 7 / 100  Loss: 0.082  Time:  0:01:08.415395\n",
      "Epoch: 8 / 100  Loss: 0.064  Time:  0:01:08.394199\n",
      "Epoch: 9 / 100  Loss: 0.072  Time:  0:01:08.330734\n",
      "Epoch: 10 / 100  Loss: 0.097  Time:  0:01:08.349489\n",
      "Epoch: 11 / 100  Loss: 0.065  Time:  0:01:08.402650\n",
      "Epoch: 12 / 100  Loss: 0.045  Time:  0:01:08.226858\n",
      "Epoch: 13 / 100  Loss: 0.032  Time:  0:01:08.315944\n",
      "Epoch: 14 / 100  Loss: 0.028  Time:  0:01:08.379125\n",
      "Epoch: 15 / 100  Loss: 0.038  Time:  0:01:08.424808\n",
      "Epoch: 16 / 100  Loss: 0.044  Time:  0:01:08.373353\n",
      "Epoch: 17 / 100  Loss: 0.031  Time:  0:01:08.464350\n",
      "Epoch: 18 / 100  Loss: 0.039  Time:  0:01:08.394996\n",
      "Epoch: 19 / 100  Loss: 0.044  Time:  0:01:08.186225\n",
      "Epoch: 20 / 100  Loss: 0.029  Time:  0:01:08.293002\n",
      "Epoch: 21 / 100  Loss: 0.020  Time:  0:01:08.326663\n",
      "Epoch: 22 / 100  Loss: 0.030  Time:  0:01:08.465358\n",
      "Epoch: 23 / 100  Loss: 0.041  Time:  0:01:08.369128\n",
      "Epoch: 24 / 100  Loss: 0.029  Time:  0:01:08.230157\n",
      "Epoch: 25 / 100  Loss: 0.029  Time:  0:01:08.428137\n",
      "Epoch: 26 / 100  Loss: 0.031  Time:  0:01:08.516270\n",
      "Epoch: 27 / 100  Loss: 0.023  Time:  0:01:08.407524\n",
      "Epoch: 28 / 100  Loss: 0.030  Time:  0:01:08.424703\n",
      "Epoch: 29 / 100  Loss: 0.018  Time:  0:01:08.526237\n",
      "Epoch: 30 / 100  Loss: 0.028  Time:  0:01:08.372476\n",
      "Epoch: 31 / 100  Loss: 0.020  Time:  0:01:08.475345\n",
      "Epoch: 32 / 100  Loss: 0.020  Time:  0:01:08.412184\n",
      "Epoch: 33 / 100  Loss: 0.015  Time:  0:01:08.427209\n",
      "Epoch: 34 / 100  Loss: 0.018  Time:  0:01:08.520017\n",
      "Epoch: 35 / 100  Loss: 0.027  Time:  0:01:08.559552\n",
      "Epoch: 36 / 100  Loss: 0.021  Time:  0:01:08.445843\n",
      "Epoch: 37 / 100  Loss: 0.024  Time:  0:01:08.357666\n",
      "Epoch: 38 / 100  Loss: 0.018  Time:  0:01:08.502656\n",
      "Epoch: 39 / 100  Loss: 0.010  Time:  0:01:08.451848\n",
      "Epoch: 40 / 100  Loss: 0.046  Time:  0:01:08.124605\n",
      "Epoch: 41 / 100  Loss: 0.093  Time:  0:01:08.209116\n",
      "Epoch: 42 / 100  Loss: 0.027  Time:  0:01:08.182793\n",
      "Epoch: 43 / 100  Loss: 0.029  Time:  0:01:08.457174\n",
      "Epoch: 44 / 100  Loss: 0.033  Time:  0:01:08.432081\n",
      "Epoch: 45 / 100  Loss: 0.022  Time:  0:01:08.242096\n",
      "Epoch: 46 / 100  Loss: 0.023  Time:  0:01:08.481866\n",
      "Epoch: 47 / 100  Loss: 0.015  Time:  0:01:08.453305\n",
      "Epoch: 48 / 100  Loss: 0.010  Time:  0:01:08.368264\n",
      "Epoch: 49 / 100  Loss: 0.016  Time:  0:01:08.387065\n",
      "Epoch: 50 / 100  Loss: 0.019  Time:  0:01:08.405009\n",
      "Epoch: 51 / 100  Loss: 0.013  Time:  0:01:08.402478\n",
      "Epoch: 52 / 100  Loss: 0.018  Time:  0:01:08.466020\n",
      "Epoch: 53 / 100  Loss: 0.012  Time:  0:01:08.408119\n",
      "Epoch: 54 / 100  Loss: 0.018  Time:  0:01:08.377176\n",
      "Epoch: 55 / 100  Loss: 0.018  Time:  0:01:08.316871\n",
      "Epoch: 56 / 100  Loss: 0.011  Time:  0:01:08.329674\n",
      "Epoch: 57 / 100  Loss: 0.010  Time:  0:01:08.418899\n",
      "Epoch: 58 / 100  Loss: 0.009  Time:  0:01:08.397740\n",
      "Epoch: 59 / 100  Loss: 0.015  Time:  0:01:08.471801\n",
      "Epoch: 60 / 100  Loss: 0.012  Time:  0:01:08.461906\n",
      "Epoch: 61 / 100  Loss: 0.014  Time:  0:01:08.429779\n",
      "Epoch: 62 / 100  Loss: 0.012  Time:  0:01:08.513052\n",
      "Epoch: 63 / 100  Loss: 0.012  Time:  0:01:08.401480\n",
      "Epoch: 64 / 100  Loss: 0.010  Time:  0:01:08.492566\n",
      "Epoch: 65 / 100  Loss: 0.011  Time:  0:01:08.436328\n",
      "Epoch: 66 / 100  Loss: 0.013  Time:  0:01:08.478850\n",
      "Epoch: 67 / 100  Loss: 0.011  Time:  0:01:08.417418\n",
      "Epoch: 68 / 100  Loss: 0.009  Time:  0:01:08.368243\n",
      "Epoch: 69 / 100  Loss: 0.014  Time:  0:01:08.407501\n",
      "Epoch: 70 / 100  Loss: 0.012  Time:  0:01:08.522638\n",
      "Epoch: 71 / 100  Loss: 0.009  Time:  0:01:08.498573\n",
      "Epoch: 72 / 100  Loss: 0.009  Time:  0:01:08.334442\n",
      "Epoch: 73 / 100  Loss: 0.008  Time:  0:01:08.407806\n",
      "Epoch: 74 / 100  Loss: 0.014  Time:  0:01:08.430210\n",
      "Epoch: 75 / 100  Loss: 0.009  Time:  0:01:08.541019\n",
      "Epoch: 76 / 100  Loss: 0.008  Time:  0:01:08.505519\n",
      "Epoch: 77 / 100  Loss: 0.007  Time:  0:01:08.421137\n",
      "Epoch: 78 / 100  Loss: 0.011  Time:  0:01:08.428826\n",
      "Epoch: 79 / 100  Loss: 0.007  Time:  0:01:08.428529\n",
      "Epoch: 80 / 100  Loss: 0.006  Time:  0:01:08.302721\n",
      "Epoch: 81 / 100  Loss: 0.012  Time:  0:01:08.392144\n",
      "Epoch: 82 / 100  Loss: 0.008  Time:  0:01:08.319663\n",
      "Epoch: 83 / 100  Loss: 0.008  Time:  0:01:08.339500\n",
      "Epoch: 84 / 100  Loss: 0.010  Time:  0:01:08.516642\n",
      "Epoch: 85 / 100  Loss: 0.010  Time:  0:01:08.428455\n",
      "Epoch: 86 / 100  Loss: 0.011  Time:  0:01:08.434496\n",
      "Epoch: 87 / 100  Loss: 0.006  Time:  0:01:08.385034\n",
      "Epoch: 88 / 100  Loss: 0.007  Time:  0:01:08.402719\n",
      "Epoch: 89 / 100  Loss: 0.006  Time:  0:01:08.490243\n",
      "Epoch: 90 / 100  Loss: 0.010  Time:  0:01:08.406783\n",
      "Epoch: 91 / 100  Loss: 0.008  Time:  0:01:08.461822\n",
      "Epoch: 92 / 100  Loss: 0.010  Time:  0:01:08.367579\n",
      "Epoch: 93 / 100  Loss: 0.009  Time:  0:01:08.459255\n",
      "Epoch: 94 / 100  Loss: 0.009  Time:  0:01:08.384339\n",
      "Epoch: 95 / 100  Loss: 0.009  Time:  0:01:08.350466\n",
      "Epoch: 96 / 100  Loss: 0.007  Time:  0:01:08.492759\n",
      "Epoch: 97 / 100  Loss: 0.009  Time:  0:01:08.427624\n",
      "Epoch: 98 / 100  Loss: 0.007  Time:  0:01:08.444094\n",
      "Epoch: 99 / 100  Loss: 0.008  Time:  0:01:08.536713\n",
      "Epoch: 100 / 100  Loss: 0.006  Time:  0:01:08.443116\n",
      "Training Finished. Saving test images to: ./runs/1517221031.2594903\n"
     ]
    }
   ],
   "source": [
    "run()"
   ]
  },
  {
   "cell_type": "code",
   "execution_count": null,
   "metadata": {},
   "outputs": [],
   "source": []
  }
 ],
 "metadata": {
  "kernelspec": {
   "display_name": "Python [conda env:tensorflow_p36]",
   "language": "python",
   "name": "conda-env-tensorflow_p36-py"
  },
  "language_info": {
   "codemirror_mode": {
    "name": "ipython",
    "version": 3
   },
   "file_extension": ".py",
   "mimetype": "text/x-python",
   "name": "python",
   "nbconvert_exporter": "python",
   "pygments_lexer": "ipython3",
   "version": "3.6.3"
  }
 },
 "nbformat": 4,
 "nbformat_minor": 2
}
